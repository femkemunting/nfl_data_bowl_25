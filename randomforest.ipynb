{
 "cells": [
  {
   "cell_type": "code",
   "execution_count": 17,
   "metadata": {},
   "outputs": [],
   "source": [
    "import pandas as pd\n",
    "import numpy as np\n",
    "from sklearn.ensemble import RandomForestClassifier\n",
    "from sklearn.model_selection import train_test_split\n",
    "from sklearn.preprocessing import LabelEncoder\n",
    "from sklearn.metrics import accuracy_score, classification_report\n",
    "from collections import Counter\n",
    "from imblearn.over_sampling import SMOTE\n",
    "\n",
    "import matplotlib.pyplot as plt\n",
    "\n",
    "from sklearn.metrics import (\n",
    "    classification_report, accuracy_score, precision_score,\n",
    "    recall_score, f1_score, confusion_matrix, ConfusionMatrixDisplay\n",
    ")"
   ]
  },
  {
   "cell_type": "code",
   "execution_count": 33,
   "metadata": {},
   "outputs": [],
   "source": [
    "data = pd.read_csv(\"data/reduced_sax_presnap.csv\")\n",
    "data = data.dropna(subset = \"playOutcome\")"
   ]
  },
  {
   "cell_type": "code",
   "execution_count": null,
   "metadata": {},
   "outputs": [],
   "source": []
  },
  {
   "cell_type": "code",
   "execution_count": 34,
   "metadata": {},
   "outputs": [
    {
     "name": "stdout",
     "output_type": "stream",
     "text": [
      "Test Accuracy: 0.7461300309597523\n",
      "\n",
      "Classification Report:\n",
      "              precision    recall  f1-score   support\n",
      "\n",
      "           0       0.90      0.90      0.90        21\n",
      "           1       1.00      0.86      0.93        22\n",
      "           2       0.93      0.70      0.80        20\n",
      "           3       0.00      0.00      0.00        18\n",
      "           4       0.71      0.57      0.63        44\n",
      "           5       0.58      0.50      0.54        14\n",
      "           6       0.94      0.68      0.79        22\n",
      "           7       0.78      0.90      0.84        20\n",
      "           8       0.90      0.69      0.78        13\n",
      "           9       0.54      0.94      0.69        66\n",
      "          10       0.83      0.71      0.77        21\n",
      "          11       0.89      0.80      0.84        20\n",
      "          12       1.00      1.00      1.00        22\n",
      "\n",
      "    accuracy                           0.75       323\n",
      "   macro avg       0.77      0.71      0.73       323\n",
      "weighted avg       0.74      0.75      0.73       323\n",
      "\n"
     ]
    },
    {
     "name": "stderr",
     "output_type": "stream",
     "text": [
      "/Users/fmunting/opt/anaconda3/lib/python3.9/site-packages/sklearn/metrics/_classification.py:1531: UndefinedMetricWarning: Precision is ill-defined and being set to 0.0 in labels with no predicted samples. Use `zero_division` parameter to control this behavior.\n",
      "  _warn_prf(average, modifier, f\"{metric.capitalize()} is\", len(result))\n",
      "/Users/fmunting/opt/anaconda3/lib/python3.9/site-packages/sklearn/metrics/_classification.py:1531: UndefinedMetricWarning: Precision is ill-defined and being set to 0.0 in labels with no predicted samples. Use `zero_division` parameter to control this behavior.\n",
      "  _warn_prf(average, modifier, f\"{metric.capitalize()} is\", len(result))\n",
      "/Users/fmunting/opt/anaconda3/lib/python3.9/site-packages/sklearn/metrics/_classification.py:1531: UndefinedMetricWarning: Precision is ill-defined and being set to 0.0 in labels with no predicted samples. Use `zero_division` parameter to control this behavior.\n",
      "  _warn_prf(average, modifier, f\"{metric.capitalize()} is\", len(result))\n"
     ]
    }
   ],
   "source": [
    "# Step 1: Load and Preprocess Data\n",
    "\n",
    "data[\"hour\"] = pd.to_datetime(data[\"time\"]).dt.hour\n",
    "data = data.drop(columns=[\"position\", \"time\"])\n",
    "\n",
    "# Encode playOutcome using LabelEncoder\n",
    "label_encoder = LabelEncoder()\n",
    "data['playOutcome_encoded'] = label_encoder.fit_transform(data['playOutcome'])\n",
    "\n",
    "# Drop the original target column and others that are unnecessary\n",
    "data = data.drop(columns=[\"playOutcome\", \"Unnamed: 0\", \"yardlineSide\"])\n",
    "\n",
    "# Convert all boolean columns to integers\n",
    "data[data.select_dtypes(include=['bool']).columns] = data.select_dtypes(include=['bool']).astype(int)\n",
    "\n",
    "# Step 2: Process SAX Data\n",
    "sax_columns = ['sax_X_std', 'sax_Y_std', 'sax_a', 'sax_s', 'sax_o', 'sax_dir']\n",
    "\n",
    "# Map Characters to Integers\n",
    "all_sax_sequences = data[sax_columns].apply(lambda x: ''.join(x), axis=1)\n",
    "unique_characters = set(''.join(all_sax_sequences))\n",
    "char_to_int = {char: idx + 1 for idx, char in enumerate(unique_characters)}  # Start indexing from 1\n",
    "\n",
    "# Create Positional Features Efficiently\n",
    "max_positions = 15  # Adjust as needed\n",
    "positional_features = {}\n",
    "\n",
    "for col in sax_columns:\n",
    "    for pos in range(max_positions):\n",
    "        positional_features[f\"{col}_pos_{pos + 1}\"] = data[col].apply(\n",
    "            lambda seq: char_to_int[seq[pos]] if pos < len(seq) else 0\n",
    "        )\n",
    "\n",
    "# Convert positional features to DataFrame and concatenate\n",
    "positional_features_df = pd.DataFrame(positional_features)\n",
    "data = pd.concat([data, positional_features_df], axis=1)\n",
    "\n",
    "data = data.drop(columns = sax_columns)\n",
    "\n",
    "# Step 3: Define Features\n",
    "numeric_features = [\n",
    "    \"hour\", \"week\", \"quarter\", \"down\", \"yardsToGo\", \"yardlineNumber\",\n",
    "    \"gameClock_min\", \"gameClock_sec\", \"preSnapHomeScore\", \"preSnapVisitorScore\",\n",
    "    \"absoluteYardlineNumber\", \"preSnapHomeTeamWinProbability\", \"expectedPoints\",\n",
    "    \"weight\", \"age\", \"time_diff\", \"distance\", \"height_inches\"\n",
    "]\n",
    "\n",
    "# Include boolean columns as categorical\n",
    "bool_columns = data.select_dtypes(include=['bool']).columns.tolist()\n",
    "\n",
    "# One-hot encode categorical features\n",
    "\n",
    "# Combine all features\n",
    "X = pd.concat([\n",
    "    data[numeric_features],\n",
    "    positional_features_df  # Use positional features\n",
    "], axis=1)\n",
    "\n",
    "# Step 4: Encode the Target Variable\n",
    "y = label_encoder.fit_transform(data['playOutcome_encoded'])\n",
    "\n",
    "majority_class_size = max(Counter(y).values())\n",
    "scaling_factor = 0.3  # percentage of majority class\n",
    "sampling_strategy = {\n",
    "    cls: max(count, int(majority_class_size * scaling_factor))  # Ensure no class is reduced\n",
    "    for cls, count in Counter(y).items()\n",
    "}\n",
    "\n",
    "# Ensure k_neighbors is valid\n",
    "smallest_class_size = min(Counter(y).values())\n",
    "k_neighbors = max(1, min(5, smallest_class_size - 1))\n",
    "\n",
    "# Apply SMOTE with corrected strategy\n",
    "smote = SMOTE(random_state=42, k_neighbors=k_neighbors, sampling_strategy=sampling_strategy)\n",
    "X, y = smote.fit_resample(X, y)\n",
    "\n",
    "# Step 5: Train-Test Split\n",
    "X_train, X_temp, y_train, y_temp = train_test_split(X, y, test_size=0.4, random_state=1)\n",
    "X_val, X_test, y_val, y_test = train_test_split(X_temp, y_temp, test_size=0.5, random_state=1)\n",
    "\n",
    "# Step 6: Train a Random Forest Model\n",
    "rf_model = RandomForestClassifier(\n",
    "    n_estimators=100,  # Number of trees\n",
    "    max_depth=None,    # Expand until all leaves are pure or min_samples_split is reached\n",
    "    random_state=1,\n",
    "    n_jobs=-1          # Use all available CPUs for parallel processing\n",
    ")\n",
    "\n",
    "X_train = X_train.values\n",
    "X_test = X_test.values\n",
    "X_val = X_val.values\n",
    "\n",
    "y_train = np.array(y_train).astype(int)\n",
    "y_test = np.array(y_test).astype(int)\n",
    "y_val = np.array(y_val).astype(int)\n",
    "\n",
    "rf_model.fit(X_train, y_train)\n",
    "\n",
    "# Convert target names to strings\n",
    "target_names = [str(class_name) for class_name in label_encoder.classes_]\n",
    "\n",
    "\n",
    "\n",
    "# Step 7: Evaluate the Model\n",
    "y_pred = rf_model.predict(X_test)\n",
    "print(\"Test Accuracy:\", accuracy_score(y_test, y_pred))\n",
    "print(\"\\nClassification Report:\")\n",
    "print(classification_report(y_test, y_pred, target_names=target_names))"
   ]
  },
  {
   "cell_type": "code",
   "execution_count": 35,
   "metadata": {},
   "outputs": [
    {
     "data": {
      "image/png": "[encoded data removed]",
      "text/plain": [
       "<Figure size 640x480 with 2 Axes>"
      ]
     },
     "metadata": {},
     "output_type": "display_data"
    }
   ],
   "source": [
    "y_pred = rf_model.predict(X_test)\n",
    "cm = confusion_matrix(y_test, y_pred)\n",
    "\n",
    "disp = ConfusionMatrixDisplay(\n",
    "    confusion_matrix=cm,\n",
    "    display_labels=label_encoder.classes_\n",
    ")\n",
    "disp.plot(cmap=plt.cm.Blues)\n",
    "plt.title(\"Confusion Matrix\")\n",
    "plt.xticks(rotation = 90)\n",
    "plt.show()"
   ]
  },
  {
   "cell_type": "code",
   "execution_count": 36,
   "metadata": {},
   "outputs": [
    {
     "data": {
      "text/plain": [
       "1       10\n",
       "2        5\n",
       "3        8\n",
       "6        2\n",
       "10      15\n",
       "        ..\n",
       "3623     8\n",
       "3624    13\n",
       "3629     9\n",
       "3636     8\n",
       "3639    15\n",
       "Name: sax_X_std_pos_7, Length: 1097, dtype: int64"
      ]
     },
     "execution_count": 36,
     "metadata": {},
     "output_type": "execute_result"
    }
   ],
   "source": [
    "data[\"sax_X_std_pos_7\"]"
   ]
  }
 ],
 "metadata": {
  "kernelspec": {
   "display_name": "Python 3.9.19 ('base')",
   "language": "python",
   "name": "python3"
  },
  "language_info": {
   "codemirror_mode": {
    "name": "ipython",
    "version": 3
   },
   "file_extension": ".py",
   "mimetype": "text/x-python",
   "name": "python",
   "nbconvert_exporter": "python",
   "pygments_lexer": "ipython3",
   "version": "3.9.19"
  },
  "orig_nbformat": 4,
  "vscode": {
   "interpreter": {
    "hash": "f3c82d000bb8a1750346fb87c49af9771012dc5d265e5e793ee442432926adf7"
   }
  }
 },
 "nbformat": 4,
 "nbformat_minor": 2
}
